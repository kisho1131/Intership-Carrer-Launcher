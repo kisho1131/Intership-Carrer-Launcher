{
 "cells": [
  {
   "cell_type": "code",
   "execution_count": 2,
   "metadata": {},
   "outputs": [],
   "source": [
    "from sklearn.linear_model import LinearRegression\n",
    "import pandas as pd\n",
    "import numpy as np\n",
    "from pandas import Series, DataFrame\n",
    "import seaborn as sns\n",
    "import matplotlib.pyplot as plt\n",
    "import os\n",
    "from sklearn.preprocessing import PolynomialFeatures"
   ]
  },
  {
   "cell_type": "markdown",
   "metadata": {},
   "source": [
    "#### 3.1 Starting.."
   ]
  },
  {
   "cell_type": "code",
   "execution_count": 17,
   "metadata": {},
   "outputs": [],
   "source": [
    "filename = 'GOLD.csv'\n",
    "outfile  = '/change/GOLD.csv'\n",
    "X_fields = ['Price','Open','High','Low']\n",
    "Y_field  = 'Pred'"
   ]
  },
  {
   "cell_type": "code",
   "execution_count": 4,
   "metadata": {},
   "outputs": [
    {
     "data": {
      "text/html": [
       "<div>\n",
       "<style scoped>\n",
       "    .dataframe tbody tr th:only-of-type {\n",
       "        vertical-align: middle;\n",
       "    }\n",
       "\n",
       "    .dataframe tbody tr th {\n",
       "        vertical-align: top;\n",
       "    }\n",
       "\n",
       "    .dataframe thead th {\n",
       "        text-align: right;\n",
       "    }\n",
       "</style>\n",
       "<table border=\"1\" class=\"dataframe\">\n",
       "  <thead>\n",
       "    <tr style=\"text-align: right;\">\n",
       "      <th></th>\n",
       "      <th>Date</th>\n",
       "      <th>Price</th>\n",
       "      <th>Open</th>\n",
       "      <th>High</th>\n",
       "      <th>Low</th>\n",
       "      <th>Vol.</th>\n",
       "      <th>Change %</th>\n",
       "      <th>Pred</th>\n",
       "      <th>new</th>\n",
       "    </tr>\n",
       "    <tr>\n",
       "      <th>Date</th>\n",
       "      <th></th>\n",
       "      <th></th>\n",
       "      <th></th>\n",
       "      <th></th>\n",
       "      <th></th>\n",
       "      <th></th>\n",
       "      <th></th>\n",
       "      <th></th>\n",
       "      <th></th>\n",
       "    </tr>\n",
       "  </thead>\n",
       "  <tbody>\n",
       "    <tr>\n",
       "      <th>2017-05-04</th>\n",
       "      <td>2017-05-04</td>\n",
       "      <td>28060</td>\n",
       "      <td>28400</td>\n",
       "      <td>28482</td>\n",
       "      <td>28025</td>\n",
       "      <td>0.08K</td>\n",
       "      <td>-1.79%</td>\n",
       "      <td>738.0</td>\n",
       "      <td>117.570740</td>\n",
       "    </tr>\n",
       "    <tr>\n",
       "      <th>2017-05-05</th>\n",
       "      <td>2017-05-05</td>\n",
       "      <td>28184</td>\n",
       "      <td>28136</td>\n",
       "      <td>28382</td>\n",
       "      <td>28135</td>\n",
       "      <td>0.06K</td>\n",
       "      <td>0.44%</td>\n",
       "      <td>-146.0</td>\n",
       "      <td>295.430176</td>\n",
       "    </tr>\n",
       "    <tr>\n",
       "      <th>2017-05-08</th>\n",
       "      <td>2017-05-08</td>\n",
       "      <td>28119</td>\n",
       "      <td>28145</td>\n",
       "      <td>28255</td>\n",
       "      <td>28097</td>\n",
       "      <td>7.85K</td>\n",
       "      <td>-0.23%</td>\n",
       "      <td>30.0</td>\n",
       "      <td>132.123714</td>\n",
       "    </tr>\n",
       "    <tr>\n",
       "      <th>2017-05-09</th>\n",
       "      <td>2017-05-09</td>\n",
       "      <td>27981</td>\n",
       "      <td>28125</td>\n",
       "      <td>28192</td>\n",
       "      <td>27947</td>\n",
       "      <td>10.10K</td>\n",
       "      <td>-0.49%</td>\n",
       "      <td>357.0</td>\n",
       "      <td>101.298064</td>\n",
       "    </tr>\n",
       "    <tr>\n",
       "      <th>2017-05-10</th>\n",
       "      <td>2017-05-10</td>\n",
       "      <td>28007</td>\n",
       "      <td>28060</td>\n",
       "      <td>28146</td>\n",
       "      <td>27981</td>\n",
       "      <td>9.28K</td>\n",
       "      <td>0.09%</td>\n",
       "      <td>124.0</td>\n",
       "      <td>112.153318</td>\n",
       "    </tr>\n",
       "  </tbody>\n",
       "</table>\n",
       "</div>"
      ],
      "text/plain": [
       "                 Date  Price   Open   High    Low    Vol. Change %   Pred  \\\n",
       "Date                                                                        \n",
       "2017-05-04 2017-05-04  28060  28400  28482  28025   0.08K   -1.79%  738.0   \n",
       "2017-05-05 2017-05-05  28184  28136  28382  28135   0.06K    0.44% -146.0   \n",
       "2017-05-08 2017-05-08  28119  28145  28255  28097   7.85K   -0.23%   30.0   \n",
       "2017-05-09 2017-05-09  27981  28125  28192  27947  10.10K   -0.49%  357.0   \n",
       "2017-05-10 2017-05-10  28007  28060  28146  27981   9.28K    0.09%  124.0   \n",
       "\n",
       "                   new  \n",
       "Date                    \n",
       "2017-05-04  117.570740  \n",
       "2017-05-05  295.430176  \n",
       "2017-05-08  132.123714  \n",
       "2017-05-09  101.298064  \n",
       "2017-05-10  112.153318  "
      ]
     },
     "execution_count": 4,
     "metadata": {},
     "output_type": "execute_result"
    }
   ],
   "source": [
    "data = {}\n",
    "data['raw']     = pd.read_csv( filename, parse_dates=['Date'] )\n",
    "data['raw'].set_index( data['raw'].Date, inplace=True )\n",
    "\n",
    "# Alteratively use: sklearn.model_selection.train_test_split() if not a natural na split in the dataset\n",
    "data['train']   = data['raw'][ -np.isnan(data['raw']['Pred']) ]  # -Series() == np.invert()\n",
    "data['test']    = data['raw'][  np.isnan(data['raw']['Pred']) ]  # Gold dataset has empty Pred values for test data\n",
    "data['train'].head()"
   ]
  },
  {
   "cell_type": "code",
   "execution_count": 5,
   "metadata": {},
   "outputs": [
    {
     "data": {
      "text/html": [
       "<div>\n",
       "<style scoped>\n",
       "    .dataframe tbody tr th:only-of-type {\n",
       "        vertical-align: middle;\n",
       "    }\n",
       "\n",
       "    .dataframe tbody tr th {\n",
       "        vertical-align: top;\n",
       "    }\n",
       "\n",
       "    .dataframe thead th {\n",
       "        text-align: right;\n",
       "    }\n",
       "</style>\n",
       "<table border=\"1\" class=\"dataframe\">\n",
       "  <thead>\n",
       "    <tr style=\"text-align: right;\">\n",
       "      <th></th>\n",
       "      <th>Date</th>\n",
       "      <th>Price</th>\n",
       "      <th>Open</th>\n",
       "      <th>High</th>\n",
       "      <th>Low</th>\n",
       "      <th>Vol.</th>\n",
       "      <th>Change %</th>\n",
       "      <th>Pred</th>\n",
       "      <th>new</th>\n",
       "    </tr>\n",
       "    <tr>\n",
       "      <th>Date</th>\n",
       "      <th></th>\n",
       "      <th></th>\n",
       "      <th></th>\n",
       "      <th></th>\n",
       "      <th></th>\n",
       "      <th></th>\n",
       "      <th></th>\n",
       "      <th></th>\n",
       "      <th></th>\n",
       "    </tr>\n",
       "  </thead>\n",
       "  <tbody>\n",
       "    <tr>\n",
       "      <th>2018-12-11</th>\n",
       "      <td>2018-12-11</td>\n",
       "      <td>31812</td>\n",
       "      <td>31850</td>\n",
       "      <td>31850</td>\n",
       "      <td>31618</td>\n",
       "      <td>10.53K</td>\n",
       "      <td>-0.26%</td>\n",
       "      <td>NaN</td>\n",
       "      <td>195.423493</td>\n",
       "    </tr>\n",
       "    <tr>\n",
       "      <th>2018-12-12</th>\n",
       "      <td>2018-12-12</td>\n",
       "      <td>31626</td>\n",
       "      <td>31749</td>\n",
       "      <td>31749</td>\n",
       "      <td>31582</td>\n",
       "      <td>7.57K</td>\n",
       "      <td>-0.58%</td>\n",
       "      <td>NaN</td>\n",
       "      <td>44.232664</td>\n",
       "    </tr>\n",
       "    <tr>\n",
       "      <th>2018-12-13</th>\n",
       "      <td>2018-12-13</td>\n",
       "      <td>31414</td>\n",
       "      <td>31550</td>\n",
       "      <td>31600</td>\n",
       "      <td>31337</td>\n",
       "      <td>8.43K</td>\n",
       "      <td>-0.67%</td>\n",
       "      <td>NaN</td>\n",
       "      <td>127.646233</td>\n",
       "    </tr>\n",
       "    <tr>\n",
       "      <th>2018-12-14</th>\n",
       "      <td>2018-12-14</td>\n",
       "      <td>31437</td>\n",
       "      <td>31440</td>\n",
       "      <td>31514</td>\n",
       "      <td>31384</td>\n",
       "      <td>6.75K</td>\n",
       "      <td>0.07%</td>\n",
       "      <td>NaN</td>\n",
       "      <td>127.219539</td>\n",
       "    </tr>\n",
       "    <tr>\n",
       "      <th>2018-12-17</th>\n",
       "      <td>2018-12-17</td>\n",
       "      <td>31501</td>\n",
       "      <td>31369</td>\n",
       "      <td>31530</td>\n",
       "      <td>31291</td>\n",
       "      <td>5.97K</td>\n",
       "      <td>0.20%</td>\n",
       "      <td>NaN</td>\n",
       "      <td>372.603976</td>\n",
       "    </tr>\n",
       "  </tbody>\n",
       "</table>\n",
       "</div>"
      ],
      "text/plain": [
       "                 Date  Price   Open   High    Low    Vol. Change %  Pred  \\\n",
       "Date                                                                       \n",
       "2018-12-11 2018-12-11  31812  31850  31850  31618  10.53K   -0.26%   NaN   \n",
       "2018-12-12 2018-12-12  31626  31749  31749  31582   7.57K   -0.58%   NaN   \n",
       "2018-12-13 2018-12-13  31414  31550  31600  31337   8.43K   -0.67%   NaN   \n",
       "2018-12-14 2018-12-14  31437  31440  31514  31384   6.75K    0.07%   NaN   \n",
       "2018-12-17 2018-12-17  31501  31369  31530  31291   5.97K    0.20%   NaN   \n",
       "\n",
       "                   new  \n",
       "Date                    \n",
       "2018-12-11  195.423493  \n",
       "2018-12-12   44.232664  \n",
       "2018-12-13  127.646233  \n",
       "2018-12-14  127.219539  \n",
       "2018-12-17  372.603976  "
      ]
     },
     "execution_count": 5,
     "metadata": {},
     "output_type": "execute_result"
    }
   ],
   "source": [
    "data['test'].head()"
   ]
  },
  {
   "cell_type": "code",
   "execution_count": 6,
   "metadata": {},
   "outputs": [],
   "source": [
    "model_pred = LinearRegression().fit( data['train'][ X_fields ], data['train']['Pred'] )"
   ]
  },
  {
   "cell_type": "code",
   "execution_count": 7,
   "metadata": {},
   "outputs": [
    {
     "data": {
      "text/plain": [
       "1.0"
      ]
     },
     "execution_count": 7,
     "metadata": {},
     "output_type": "execute_result"
    }
   ],
   "source": [
    "model_pred.score( data['train'][ X_fields ], data['train']['Pred'] )"
   ]
  },
  {
   "cell_type": "code",
   "execution_count": 8,
   "metadata": {},
   "outputs": [
    {
     "data": {
      "text/plain": [
       "array([ 2.,  3., -1., -4.])"
      ]
     },
     "execution_count": 8,
     "metadata": {},
     "output_type": "execute_result"
    }
   ],
   "source": [
    "model_pred.coef_"
   ]
  },
  {
   "cell_type": "code",
   "execution_count": 9,
   "metadata": {},
   "outputs": [
    {
     "data": {
      "text/plain": [
       "2.6432189770275727e-11"
      ]
     },
     "execution_count": 9,
     "metadata": {},
     "output_type": "execute_result"
    }
   ],
   "source": [
    "model_pred.intercept_"
   ]
  },
  {
   "cell_type": "code",
   "execution_count": 10,
   "metadata": {},
   "outputs": [
    {
     "name": "stderr",
     "output_type": "stream",
     "text": [
      "C:\\Users\\shant\\Anaconda3\\lib\\site-packages\\ipykernel_launcher.py:1: SettingWithCopyWarning: \n",
      "A value is trying to be set on a copy of a slice from a DataFrame.\n",
      "Try using .loc[row_indexer,col_indexer] = value instead\n",
      "\n",
      "See the caveats in the documentation: http://pandas.pydata.org/pandas-docs/stable/indexing.html#indexing-view-versus-copy\n",
      "  \"\"\"Entry point for launching an IPython kernel.\n",
      "C:\\Users\\shant\\Anaconda3\\lib\\site-packages\\ipykernel_launcher.py:2: SettingWithCopyWarning: \n",
      "A value is trying to be set on a copy of a slice from a DataFrame.\n",
      "Try using .loc[row_indexer,col_indexer] = value instead\n",
      "\n",
      "See the caveats in the documentation: http://pandas.pydata.org/pandas-docs/stable/indexing.html#indexing-view-versus-copy\n",
      "  \n"
     ]
    },
    {
     "data": {
      "text/html": [
       "<div>\n",
       "<style scoped>\n",
       "    .dataframe tbody tr th:only-of-type {\n",
       "        vertical-align: middle;\n",
       "    }\n",
       "\n",
       "    .dataframe tbody tr th {\n",
       "        vertical-align: top;\n",
       "    }\n",
       "\n",
       "    .dataframe thead th {\n",
       "        text-align: right;\n",
       "    }\n",
       "</style>\n",
       "<table border=\"1\" class=\"dataframe\">\n",
       "  <thead>\n",
       "    <tr style=\"text-align: right;\">\n",
       "      <th></th>\n",
       "      <th>Date</th>\n",
       "      <th>Price</th>\n",
       "      <th>Open</th>\n",
       "      <th>High</th>\n",
       "      <th>Low</th>\n",
       "      <th>Vol.</th>\n",
       "      <th>Change %</th>\n",
       "      <th>Pred</th>\n",
       "      <th>new</th>\n",
       "      <th>Pred_2</th>\n",
       "    </tr>\n",
       "    <tr>\n",
       "      <th>Date</th>\n",
       "      <th></th>\n",
       "      <th></th>\n",
       "      <th></th>\n",
       "      <th></th>\n",
       "      <th></th>\n",
       "      <th></th>\n",
       "      <th></th>\n",
       "      <th></th>\n",
       "      <th></th>\n",
       "      <th></th>\n",
       "    </tr>\n",
       "  </thead>\n",
       "  <tbody>\n",
       "    <tr>\n",
       "      <th>2018-12-11</th>\n",
       "      <td>2018-12-11</td>\n",
       "      <td>31812</td>\n",
       "      <td>31850</td>\n",
       "      <td>31850</td>\n",
       "      <td>31618</td>\n",
       "      <td>10.53K</td>\n",
       "      <td>-0.26%</td>\n",
       "      <td>852.0</td>\n",
       "      <td>195.423493</td>\n",
       "      <td>852.0</td>\n",
       "    </tr>\n",
       "    <tr>\n",
       "      <th>2018-12-12</th>\n",
       "      <td>2018-12-12</td>\n",
       "      <td>31626</td>\n",
       "      <td>31749</td>\n",
       "      <td>31749</td>\n",
       "      <td>31582</td>\n",
       "      <td>7.57K</td>\n",
       "      <td>-0.58%</td>\n",
       "      <td>422.0</td>\n",
       "      <td>44.232664</td>\n",
       "      <td>422.0</td>\n",
       "    </tr>\n",
       "    <tr>\n",
       "      <th>2018-12-13</th>\n",
       "      <td>2018-12-13</td>\n",
       "      <td>31414</td>\n",
       "      <td>31550</td>\n",
       "      <td>31600</td>\n",
       "      <td>31337</td>\n",
       "      <td>8.43K</td>\n",
       "      <td>-0.67%</td>\n",
       "      <td>530.0</td>\n",
       "      <td>127.646233</td>\n",
       "      <td>530.0</td>\n",
       "    </tr>\n",
       "    <tr>\n",
       "      <th>2018-12-14</th>\n",
       "      <td>2018-12-14</td>\n",
       "      <td>31437</td>\n",
       "      <td>31440</td>\n",
       "      <td>31514</td>\n",
       "      <td>31384</td>\n",
       "      <td>6.75K</td>\n",
       "      <td>0.07%</td>\n",
       "      <td>144.0</td>\n",
       "      <td>127.219539</td>\n",
       "      <td>144.0</td>\n",
       "    </tr>\n",
       "    <tr>\n",
       "      <th>2018-12-17</th>\n",
       "      <td>2018-12-17</td>\n",
       "      <td>31501</td>\n",
       "      <td>31369</td>\n",
       "      <td>31530</td>\n",
       "      <td>31291</td>\n",
       "      <td>5.97K</td>\n",
       "      <td>0.20%</td>\n",
       "      <td>415.0</td>\n",
       "      <td>372.603976</td>\n",
       "      <td>415.0</td>\n",
       "    </tr>\n",
       "  </tbody>\n",
       "</table>\n",
       "</div>"
      ],
      "text/plain": [
       "                 Date  Price   Open   High    Low    Vol. Change %   Pred  \\\n",
       "Date                                                                        \n",
       "2018-12-11 2018-12-11  31812  31850  31850  31618  10.53K   -0.26%  852.0   \n",
       "2018-12-12 2018-12-12  31626  31749  31749  31582   7.57K   -0.58%  422.0   \n",
       "2018-12-13 2018-12-13  31414  31550  31600  31337   8.43K   -0.67%  530.0   \n",
       "2018-12-14 2018-12-14  31437  31440  31514  31384   6.75K    0.07%  144.0   \n",
       "2018-12-17 2018-12-17  31501  31369  31530  31291   5.97K    0.20%  415.0   \n",
       "\n",
       "                   new  Pred_2  \n",
       "Date                            \n",
       "2018-12-11  195.423493   852.0  \n",
       "2018-12-12   44.232664   422.0  \n",
       "2018-12-13  127.646233   530.0  \n",
       "2018-12-14  127.219539   144.0  \n",
       "2018-12-17  372.603976   415.0  "
      ]
     },
     "execution_count": 10,
     "metadata": {},
     "output_type": "execute_result"
    }
   ],
   "source": [
    "data['train']['Pred_2'] = model_pred.predict( data['train'][ X_fields ] )\n",
    "data['test']['Pred_2']  = data['test']['Pred'] = model_pred.predict( data['test'][  X_fields ] )\n",
    "data['test'].head()"
   ]
  },
  {
   "cell_type": "code",
   "execution_count": 11,
   "metadata": {},
   "outputs": [
    {
     "name": "stderr",
     "output_type": "stream",
     "text": [
      "C:\\Users\\shant\\Anaconda3\\lib\\site-packages\\pandas\\plotting\\_converter.py:129: FutureWarning: Using an implicitly registered datetime converter for a matplotlib plotting method. The converter was registered by pandas on import. Future versions of pandas will require you to explicitly register matplotlib converters.\n",
      "\n",
      "To register the converters:\n",
      "\t>>> from pandas.plotting import register_matplotlib_converters\n",
      "\t>>> register_matplotlib_converters()\n",
      "  warnings.warn(msg, FutureWarning)\n"
     ]
    },
    {
     "data": {
      "text/plain": [
       "<matplotlib.legend.Legend at 0x1ffac7b7470>"
      ]
     },
     "execution_count": 11,
     "metadata": {},
     "output_type": "execute_result"
    },
    {
     "data": {
      "image/png": "[encoded data removed]",
      "text/plain": [
       "<Figure size 432x288 with 2 Axes>"
      ]
     },
     "metadata": {
      "needs_background": "light"
     },
     "output_type": "display_data"
    }
   ],
   "source": [
    "fig = plt.figure()\n",
    "ax1 = fig.add_subplot(1, 1, 1)\n",
    "ax2 = ax1.twinx()\n",
    "\n",
    "ax2.plot( data['test'].Price, label='Price' ); \n",
    "ax2.plot( data['test'].Open,  label='Open' );  \n",
    "ax2.plot( data['test'].High,  label='High' );  \n",
    "ax2.plot( data['test'].Low,   label='Low' );   \n",
    "ax1.plot( data['test'].Pred,  label='Pred', linestyle=':', );  \n",
    "ax1.plot( data['test'].Pred_2,  label='Pred_2', linestyle=':' );  \n",
    "\n",
    "plt.title('Gold')\n",
    "plt.ylabel('Price')\n",
    "ax1.legend(loc='upper left')\n",
    "ax2.legend(loc='upper right')"
   ]
  },
  {
   "cell_type": "code",
   "execution_count": 12,
   "metadata": {},
   "outputs": [
    {
     "data": {
      "text/plain": [
       "(array([20., 47., 24.,  6.,  0.,  0.,  0.,  1.,  0.,  3.]),\n",
       " array([-139. ,  177.3,  493.6,  809.9, 1126.2, 1442.5, 1758.8, 2075.1,\n",
       "        2391.4, 2707.7, 3024. ]),\n",
       " <a list of 10 Patch objects>)"
      ]
     },
     "execution_count": 12,
     "metadata": {},
     "output_type": "execute_result"
    },
    {
     "data": {
      "image/png": "[encoded data removed]",
      "text/plain": [
       "<Figure size 432x288 with 2 Axes>"
      ]
     },
     "metadata": {
      "needs_background": "light"
     },
     "output_type": "display_data"
    }
   ],
   "source": [
    "fig = plt.figure()\n",
    "ax1 = fig.add_subplot(1, 1, 1)\n",
    "ax2 = fig.add_subplot(1, 2, 1)\n",
    "\n",
    "ax1.hist( data['test'].Price )\n",
    "ax1.hist( data['test'].Open )\n",
    "ax1.hist( data['test'].High )\n",
    "ax1.hist( data['test'].Low )\n",
    "ax2.hist( data['test'].Pred )"
   ]
  },
  {
   "cell_type": "code",
   "execution_count": 18,
   "metadata": {},
   "outputs": [
    {
     "data": {
      "text/plain": [
       "'/change/GOLD.csv'"
      ]
     },
     "execution_count": 18,
     "metadata": {},
     "output_type": "execute_result"
    }
   ],
   "source": [
    "os.mkdir( os.path.dirname(outfile),)  # ensure directory exists\n",
    "\n",
    "pd.concat([data['train'], data['test']], sort=False).to_csv( outfile, index=False )\n",
    "outfile"
   ]
  },
  {
   "cell_type": "code",
   "execution_count": 19,
   "metadata": {},
   "outputs": [
    {
     "data": {
      "text/plain": [
       "0.9999683016109173"
      ]
     },
     "execution_count": 19,
     "metadata": {},
     "output_type": "execute_result"
    }
   ],
   "source": [
    "model_new_linear = LinearRegression().fit( data['train'][ X_fields ], data['train']['new'] )\n",
    "model_new_linear.score( data['test'][ X_fields ], data['test']['new'] )"
   ]
  },
  {
   "cell_type": "code",
   "execution_count": 20,
   "metadata": {},
   "outputs": [
    {
     "data": {
      "text/plain": [
       "array([ 1.01202641, -1.00094252,  1.00492221, -1.01604305])"
      ]
     },
     "execution_count": 20,
     "metadata": {},
     "output_type": "execute_result"
    }
   ],
   "source": [
    "model_new_linear.coef_"
   ]
  },
  {
   "cell_type": "code",
   "execution_count": 21,
   "metadata": {},
   "outputs": [
    {
     "data": {
      "text/plain": [
       "-0.21616304412336262"
      ]
     },
     "execution_count": 21,
     "metadata": {},
     "output_type": "execute_result"
    }
   ],
   "source": [
    "model_new_linear.intercept_"
   ]
  },
  {
   "cell_type": "code",
   "execution_count": 22,
   "metadata": {},
   "outputs": [
    {
     "data": {
      "text/plain": [
       "0.999999856336434"
      ]
     },
     "execution_count": 22,
     "metadata": {},
     "output_type": "execute_result"
    }
   ],
   "source": [
    "features = {\n",
    "    \"train\": PolynomialFeatures(2).fit_transform( data['train'][ X_fields ] ),\n",
    "    \"test\":  PolynomialFeatures(2).fit_transform( data['test'][  X_fields ] ),    \n",
    "}\n",
    "model_new_poly = LinearRegression().fit( features['train'], data['train']['new'] )\n",
    "model_new_poly.score( features['test'], data['test']['new'] )"
   ]
  },
  {
   "cell_type": "code",
   "execution_count": 23,
   "metadata": {},
   "outputs": [
    {
     "name": "stderr",
     "output_type": "stream",
     "text": [
      "C:\\Users\\shant\\Anaconda3\\lib\\site-packages\\ipykernel_launcher.py:1: SettingWithCopyWarning: \n",
      "A value is trying to be set on a copy of a slice from a DataFrame.\n",
      "Try using .loc[row_indexer,col_indexer] = value instead\n",
      "\n",
      "See the caveats in the documentation: http://pandas.pydata.org/pandas-docs/stable/indexing.html#indexing-view-versus-copy\n",
      "  \"\"\"Entry point for launching an IPython kernel.\n",
      "C:\\Users\\shant\\Anaconda3\\lib\\site-packages\\ipykernel_launcher.py:2: SettingWithCopyWarning: \n",
      "A value is trying to be set on a copy of a slice from a DataFrame.\n",
      "Try using .loc[row_indexer,col_indexer] = value instead\n",
      "\n",
      "See the caveats in the documentation: http://pandas.pydata.org/pandas-docs/stable/indexing.html#indexing-view-versus-copy\n",
      "  \n"
     ]
    }
   ],
   "source": [
    "data['test']['new_linear'] = model_new_linear.predict( data['test'][ X_fields ] )\n",
    "data['test']['new_poly']   = model_new_poly.predict(   features['test'] )"
   ]
  },
  {
   "cell_type": "code",
   "execution_count": 24,
   "metadata": {},
   "outputs": [
    {
     "data": {
      "text/plain": [
       "<matplotlib.legend.Legend at 0x1ffac9f8e48>"
      ]
     },
     "execution_count": 24,
     "metadata": {},
     "output_type": "execute_result"
    },
    {
     "data": {
      "image/png": "[encoded data removed]",
      "text/plain": [
       "<Figure size 432x288 with 1 Axes>"
      ]
     },
     "metadata": {
      "needs_background": "light"
     },
     "output_type": "display_data"
    }
   ],
   "source": [
    "fig = plt.figure()\n",
    "ax1 = fig.add_subplot(1, 1, 1)\n",
    "ax1.plot( data['test']['new'],        label='new',        linestyle='-', );  \n",
    "ax1.plot( data['test']['new_linear'], label='new_linear', linestyle='-', );  \n",
    "ax1.plot( data['test']['new_poly'],   label='new_poly',   linestyle='-', );  \n",
    "ax1.legend(loc='upper left')"
   ]
  },
  {
   "cell_type": "markdown",
   "metadata": {},
   "source": [
    "### 3.2 Starting.."
   ]
  },
  {
   "cell_type": "code",
   "execution_count": 25,
   "metadata": {},
   "outputs": [],
   "source": [
    "import statsmodels.api as sm\n",
    "from statsmodels.regression.linear_model import OLS\n",
    "from sklearn.model_selection import train_test_split"
   ]
  },
  {
   "cell_type": "code",
   "execution_count": 27,
   "metadata": {},
   "outputs": [],
   "source": [
    "ADANIPORTS = pd.read_csv( \"ADANIPORTS.csv\", parse_dates=['Date'], index_col='Date' )\n",
    "ADANIPORTS = ADANIPORTS[ ADANIPORTS.Series == 'EQ' ]\n",
    "NIFTY50    = pd.read_csv( \"Nifty50.csv\",             parse_dates=['Date'], index_col='Date' )"
   ]
  },
  {
   "cell_type": "code",
   "execution_count": 28,
   "metadata": {},
   "outputs": [
    {
     "data": {
      "text/html": [
       "<div>\n",
       "<style scoped>\n",
       "    .dataframe tbody tr th:only-of-type {\n",
       "        vertical-align: middle;\n",
       "    }\n",
       "\n",
       "    .dataframe tbody tr th {\n",
       "        vertical-align: top;\n",
       "    }\n",
       "\n",
       "    .dataframe thead th {\n",
       "        text-align: right;\n",
       "    }\n",
       "</style>\n",
       "<table border=\"1\" class=\"dataframe\">\n",
       "  <thead>\n",
       "    <tr style=\"text-align: right;\">\n",
       "      <th></th>\n",
       "      <th>Symbol</th>\n",
       "      <th>Series</th>\n",
       "      <th>Prev Close</th>\n",
       "      <th>Open Price</th>\n",
       "      <th>High Price</th>\n",
       "      <th>Low Price</th>\n",
       "      <th>Last Price</th>\n",
       "      <th>Close Price</th>\n",
       "      <th>Average Price</th>\n",
       "      <th>Total Traded Quantity</th>\n",
       "      <th>Turnover</th>\n",
       "      <th>No. of Trades</th>\n",
       "      <th>Deliverable Qty</th>\n",
       "      <th>% Dly Qt to Traded Qty</th>\n",
       "    </tr>\n",
       "    <tr>\n",
       "      <th>Date</th>\n",
       "      <th></th>\n",
       "      <th></th>\n",
       "      <th></th>\n",
       "      <th></th>\n",
       "      <th></th>\n",
       "      <th></th>\n",
       "      <th></th>\n",
       "      <th></th>\n",
       "      <th></th>\n",
       "      <th></th>\n",
       "      <th></th>\n",
       "      <th></th>\n",
       "      <th></th>\n",
       "      <th></th>\n",
       "    </tr>\n",
       "  </thead>\n",
       "  <tbody>\n",
       "    <tr>\n",
       "      <th>2017-05-15</th>\n",
       "      <td>ADANIPORTS</td>\n",
       "      <td>EQ</td>\n",
       "      <td>357.95</td>\n",
       "      <td>359.00</td>\n",
       "      <td>359.75</td>\n",
       "      <td>350.85</td>\n",
       "      <td>356.00</td>\n",
       "      <td>356.20</td>\n",
       "      <td>354.78</td>\n",
       "      <td>1530781</td>\n",
       "      <td>5.430939e+08</td>\n",
       "      <td>14738</td>\n",
       "      <td>554124</td>\n",
       "      <td>36.20</td>\n",
       "    </tr>\n",
       "    <tr>\n",
       "      <th>2017-05-16</th>\n",
       "      <td>ADANIPORTS</td>\n",
       "      <td>EQ</td>\n",
       "      <td>356.20</td>\n",
       "      <td>354.20</td>\n",
       "      <td>358.15</td>\n",
       "      <td>351.15</td>\n",
       "      <td>353.55</td>\n",
       "      <td>354.50</td>\n",
       "      <td>354.64</td>\n",
       "      <td>1321254</td>\n",
       "      <td>4.685718e+08</td>\n",
       "      <td>24113</td>\n",
       "      <td>465010</td>\n",
       "      <td>35.19</td>\n",
       "    </tr>\n",
       "    <tr>\n",
       "      <th>2017-05-17</th>\n",
       "      <td>ADANIPORTS</td>\n",
       "      <td>EQ</td>\n",
       "      <td>354.50</td>\n",
       "      <td>354.50</td>\n",
       "      <td>354.80</td>\n",
       "      <td>347.55</td>\n",
       "      <td>348.95</td>\n",
       "      <td>348.55</td>\n",
       "      <td>349.74</td>\n",
       "      <td>1239867</td>\n",
       "      <td>4.336325e+08</td>\n",
       "      <td>19750</td>\n",
       "      <td>571621</td>\n",
       "      <td>46.10</td>\n",
       "    </tr>\n",
       "    <tr>\n",
       "      <th>2017-05-18</th>\n",
       "      <td>ADANIPORTS</td>\n",
       "      <td>EQ</td>\n",
       "      <td>348.55</td>\n",
       "      <td>344.30</td>\n",
       "      <td>359.55</td>\n",
       "      <td>342.20</td>\n",
       "      <td>348.15</td>\n",
       "      <td>347.90</td>\n",
       "      <td>350.16</td>\n",
       "      <td>3618961</td>\n",
       "      <td>1.267198e+09</td>\n",
       "      <td>76390</td>\n",
       "      <td>963959</td>\n",
       "      <td>26.64</td>\n",
       "    </tr>\n",
       "    <tr>\n",
       "      <th>2017-05-19</th>\n",
       "      <td>ADANIPORTS</td>\n",
       "      <td>EQ</td>\n",
       "      <td>347.90</td>\n",
       "      <td>349.05</td>\n",
       "      <td>352.50</td>\n",
       "      <td>345.30</td>\n",
       "      <td>350.45</td>\n",
       "      <td>349.45</td>\n",
       "      <td>348.91</td>\n",
       "      <td>1302961</td>\n",
       "      <td>4.546103e+08</td>\n",
       "      <td>20989</td>\n",
       "      <td>492222</td>\n",
       "      <td>37.78</td>\n",
       "    </tr>\n",
       "  </tbody>\n",
       "</table>\n",
       "</div>"
      ],
      "text/plain": [
       "                Symbol Series  Prev Close  Open Price  High Price  Low Price  \\\n",
       "Date                                                                           \n",
       "2017-05-15  ADANIPORTS     EQ      357.95      359.00      359.75     350.85   \n",
       "2017-05-16  ADANIPORTS     EQ      356.20      354.20      358.15     351.15   \n",
       "2017-05-17  ADANIPORTS     EQ      354.50      354.50      354.80     347.55   \n",
       "2017-05-18  ADANIPORTS     EQ      348.55      344.30      359.55     342.20   \n",
       "2017-05-19  ADANIPORTS     EQ      347.90      349.05      352.50     345.30   \n",
       "\n",
       "            Last Price  Close Price  Average Price  Total Traded Quantity  \\\n",
       "Date                                                                        \n",
       "2017-05-15      356.00       356.20         354.78                1530781   \n",
       "2017-05-16      353.55       354.50         354.64                1321254   \n",
       "2017-05-17      348.95       348.55         349.74                1239867   \n",
       "2017-05-18      348.15       347.90         350.16                3618961   \n",
       "2017-05-19      350.45       349.45         348.91                1302961   \n",
       "\n",
       "                Turnover  No. of Trades  Deliverable Qty  \\\n",
       "Date                                                       \n",
       "2017-05-15  5.430939e+08          14738           554124   \n",
       "2017-05-16  4.685718e+08          24113           465010   \n",
       "2017-05-17  4.336325e+08          19750           571621   \n",
       "2017-05-18  1.267198e+09          76390           963959   \n",
       "2017-05-19  4.546103e+08          20989           492222   \n",
       "\n",
       "            % Dly Qt to Traded Qty  \n",
       "Date                                \n",
       "2017-05-15                   36.20  \n",
       "2017-05-16                   35.19  \n",
       "2017-05-17                   46.10  \n",
       "2017-05-18                   26.64  \n",
       "2017-05-19                   37.78  "
      ]
     },
     "execution_count": 28,
     "metadata": {},
     "output_type": "execute_result"
    }
   ],
   "source": [
    "ADANIPORTS.head()"
   ]
  },
  {
   "cell_type": "code",
   "execution_count": 29,
   "metadata": {},
   "outputs": [
    {
     "data": {
      "text/html": [
       "<div>\n",
       "<style scoped>\n",
       "    .dataframe tbody tr th:only-of-type {\n",
       "        vertical-align: middle;\n",
       "    }\n",
       "\n",
       "    .dataframe tbody tr th {\n",
       "        vertical-align: top;\n",
       "    }\n",
       "\n",
       "    .dataframe thead th {\n",
       "        text-align: right;\n",
       "    }\n",
       "</style>\n",
       "<table border=\"1\" class=\"dataframe\">\n",
       "  <thead>\n",
       "    <tr style=\"text-align: right;\">\n",
       "      <th></th>\n",
       "      <th>Open</th>\n",
       "      <th>High</th>\n",
       "      <th>Low</th>\n",
       "      <th>Close</th>\n",
       "      <th>Shares Traded</th>\n",
       "      <th>Turnover (Rs. Cr)</th>\n",
       "    </tr>\n",
       "    <tr>\n",
       "      <th>Date</th>\n",
       "      <th></th>\n",
       "      <th></th>\n",
       "      <th></th>\n",
       "      <th></th>\n",
       "      <th></th>\n",
       "      <th></th>\n",
       "    </tr>\n",
       "  </thead>\n",
       "  <tbody>\n",
       "    <tr>\n",
       "      <th>2017-05-15</th>\n",
       "      <td>9433.55</td>\n",
       "      <td>9449.25</td>\n",
       "      <td>9423.10</td>\n",
       "      <td>9445.40</td>\n",
       "      <td>145163953</td>\n",
       "      <td>7790.97</td>\n",
       "    </tr>\n",
       "    <tr>\n",
       "      <th>2017-05-16</th>\n",
       "      <td>9461.00</td>\n",
       "      <td>9517.20</td>\n",
       "      <td>9456.35</td>\n",
       "      <td>9512.25</td>\n",
       "      <td>171709433</td>\n",
       "      <td>9209.89</td>\n",
       "    </tr>\n",
       "    <tr>\n",
       "      <th>2017-05-17</th>\n",
       "      <td>9517.60</td>\n",
       "      <td>9532.60</td>\n",
       "      <td>9486.10</td>\n",
       "      <td>9525.75</td>\n",
       "      <td>211856040</td>\n",
       "      <td>10726.23</td>\n",
       "    </tr>\n",
       "    <tr>\n",
       "      <th>2017-05-18</th>\n",
       "      <td>9453.20</td>\n",
       "      <td>9489.10</td>\n",
       "      <td>9418.10</td>\n",
       "      <td>9429.45</td>\n",
       "      <td>199340647</td>\n",
       "      <td>10782.46</td>\n",
       "    </tr>\n",
       "    <tr>\n",
       "      <th>2017-05-19</th>\n",
       "      <td>9469.90</td>\n",
       "      <td>9505.75</td>\n",
       "      <td>9390.75</td>\n",
       "      <td>9427.90</td>\n",
       "      <td>259861396</td>\n",
       "      <td>11544.77</td>\n",
       "    </tr>\n",
       "  </tbody>\n",
       "</table>\n",
       "</div>"
      ],
      "text/plain": [
       "               Open     High      Low    Close  Shares Traded  \\\n",
       "Date                                                            \n",
       "2017-05-15  9433.55  9449.25  9423.10  9445.40      145163953   \n",
       "2017-05-16  9461.00  9517.20  9456.35  9512.25      171709433   \n",
       "2017-05-17  9517.60  9532.60  9486.10  9525.75      211856040   \n",
       "2017-05-18  9453.20  9489.10  9418.10  9429.45      199340647   \n",
       "2017-05-19  9469.90  9505.75  9390.75  9427.90      259861396   \n",
       "\n",
       "            Turnover (Rs. Cr)  \n",
       "Date                           \n",
       "2017-05-15            7790.97  \n",
       "2017-05-16            9209.89  \n",
       "2017-05-17           10726.23  \n",
       "2017-05-18           10782.46  \n",
       "2017-05-19           11544.77  "
      ]
     },
     "execution_count": 29,
     "metadata": {},
     "output_type": "execute_result"
    }
   ],
   "source": [
    "NIFTY50.head()"
   ]
  },
  {
   "cell_type": "markdown",
   "metadata": {},
   "source": [
    "#### 3.2.1 Starting..."
   ]
  },
  {
   "cell_type": "code",
   "execution_count": 30,
   "metadata": {},
   "outputs": [
    {
     "data": {
      "text/html": [
       "<div>\n",
       "<style scoped>\n",
       "    .dataframe tbody tr th:only-of-type {\n",
       "        vertical-align: middle;\n",
       "    }\n",
       "\n",
       "    .dataframe tbody tr th {\n",
       "        vertical-align: top;\n",
       "    }\n",
       "\n",
       "    .dataframe thead th {\n",
       "        text-align: right;\n",
       "    }\n",
       "</style>\n",
       "<table border=\"1\" class=\"dataframe\">\n",
       "  <thead>\n",
       "    <tr style=\"text-align: right;\">\n",
       "      <th></th>\n",
       "      <th>ADANIPORTS</th>\n",
       "      <th>NIFTY50</th>\n",
       "    </tr>\n",
       "    <tr>\n",
       "      <th>Date</th>\n",
       "      <th></th>\n",
       "      <th></th>\n",
       "    </tr>\n",
       "  </thead>\n",
       "  <tbody>\n",
       "    <tr>\n",
       "      <th>2017-05-15</th>\n",
       "      <td>356.20</td>\n",
       "      <td>9445.40</td>\n",
       "    </tr>\n",
       "    <tr>\n",
       "      <th>2017-05-16</th>\n",
       "      <td>354.50</td>\n",
       "      <td>9512.25</td>\n",
       "    </tr>\n",
       "    <tr>\n",
       "      <th>2017-05-17</th>\n",
       "      <td>348.55</td>\n",
       "      <td>9525.75</td>\n",
       "    </tr>\n",
       "    <tr>\n",
       "      <th>2017-05-18</th>\n",
       "      <td>347.90</td>\n",
       "      <td>9429.45</td>\n",
       "    </tr>\n",
       "    <tr>\n",
       "      <th>2017-05-19</th>\n",
       "      <td>349.45</td>\n",
       "      <td>9427.90</td>\n",
       "    </tr>\n",
       "  </tbody>\n",
       "</table>\n",
       "</div>"
      ],
      "text/plain": [
       "            ADANIPORTS  NIFTY50\n",
       "Date                           \n",
       "2017-05-15      356.20  9445.40\n",
       "2017-05-16      354.50  9512.25\n",
       "2017-05-17      348.55  9525.75\n",
       "2017-05-18      347.90  9429.45\n",
       "2017-05-19      349.45  9427.90"
      ]
     },
     "execution_count": 30,
     "metadata": {},
     "output_type": "execute_result"
    }
   ],
   "source": [
    "prices = pd.concat([ ADANIPORTS['Close Price'], NIFTY50['Close'] ], axis=1)\n",
    "prices.columns = ['ADANIPORTS', 'NIFTY50']\n",
    "prices.head()"
   ]
  },
  {
   "cell_type": "code",
   "execution_count": 31,
   "metadata": {},
   "outputs": [
    {
     "data": {
      "text/html": [
       "<div>\n",
       "<style scoped>\n",
       "    .dataframe tbody tr th:only-of-type {\n",
       "        vertical-align: middle;\n",
       "    }\n",
       "\n",
       "    .dataframe tbody tr th {\n",
       "        vertical-align: top;\n",
       "    }\n",
       "\n",
       "    .dataframe thead th {\n",
       "        text-align: right;\n",
       "    }\n",
       "</style>\n",
       "<table border=\"1\" class=\"dataframe\">\n",
       "  <thead>\n",
       "    <tr style=\"text-align: right;\">\n",
       "      <th></th>\n",
       "      <th>ADANIPORTS</th>\n",
       "      <th>NIFTY50</th>\n",
       "    </tr>\n",
       "    <tr>\n",
       "      <th>Date</th>\n",
       "      <th></th>\n",
       "      <th></th>\n",
       "    </tr>\n",
       "  </thead>\n",
       "  <tbody>\n",
       "    <tr>\n",
       "      <th>2017-05-16</th>\n",
       "      <td>-0.004773</td>\n",
       "      <td>0.007078</td>\n",
       "    </tr>\n",
       "    <tr>\n",
       "      <th>2017-05-17</th>\n",
       "      <td>-0.016784</td>\n",
       "      <td>0.001419</td>\n",
       "    </tr>\n",
       "    <tr>\n",
       "      <th>2017-05-18</th>\n",
       "      <td>-0.001865</td>\n",
       "      <td>-0.010109</td>\n",
       "    </tr>\n",
       "    <tr>\n",
       "      <th>2017-05-19</th>\n",
       "      <td>0.004455</td>\n",
       "      <td>-0.000164</td>\n",
       "    </tr>\n",
       "    <tr>\n",
       "      <th>2017-05-22</th>\n",
       "      <td>0.014308</td>\n",
       "      <td>0.001098</td>\n",
       "    </tr>\n",
       "  </tbody>\n",
       "</table>\n",
       "</div>"
      ],
      "text/plain": [
       "            ADANIPORTS   NIFTY50\n",
       "Date                            \n",
       "2017-05-16   -0.004773  0.007078\n",
       "2017-05-17   -0.016784  0.001419\n",
       "2017-05-18   -0.001865 -0.010109\n",
       "2017-05-19    0.004455 -0.000164\n",
       "2017-05-22    0.014308  0.001098"
      ]
     },
     "execution_count": 31,
     "metadata": {},
     "output_type": "execute_result"
    }
   ],
   "source": [
    "returns = prices.pct_change().dropna(axis=0)\n",
    "returns.head()"
   ]
  },
  {
   "cell_type": "code",
   "execution_count": 32,
   "metadata": {},
   "outputs": [
    {
     "name": "stderr",
     "output_type": "stream",
     "text": [
      "C:\\Users\\shant\\Anaconda3\\lib\\site-packages\\numpy\\core\\fromnumeric.py:2389: FutureWarning: Method .ptp is deprecated and will be removed in a future version. Use numpy.ptp instead.\n",
      "  return ptp(axis=axis, out=out, **kwargs)\n"
     ]
    },
    {
     "data": {
      "text/html": [
       "<table class=\"simpletable\">\n",
       "<caption>OLS Regression Results</caption>\n",
       "<tr>\n",
       "  <th>Dep. Variable:</th>       <td>ADANIPORTS</td>    <th>  R-squared:         </th> <td>   0.252</td>\n",
       "</tr>\n",
       "<tr>\n",
       "  <th>Model:</th>                   <td>OLS</td>       <th>  Adj. R-squared:    </th> <td>   0.250</td>\n",
       "</tr>\n",
       "<tr>\n",
       "  <th>Method:</th>             <td>Least Squares</td>  <th>  F-statistic:       </th> <td>   165.4</td>\n",
       "</tr>\n",
       "<tr>\n",
       "  <th>Date:</th>             <td>Sat, 30 May 2020</td> <th>  Prob (F-statistic):</th> <td>7.89e-33</td>\n",
       "</tr>\n",
       "<tr>\n",
       "  <th>Time:</th>                 <td>18:38:50</td>     <th>  Log-Likelihood:    </th> <td>  1313.3</td>\n",
       "</tr>\n",
       "<tr>\n",
       "  <th>No. Observations:</th>      <td>   493</td>      <th>  AIC:               </th> <td>  -2623.</td>\n",
       "</tr>\n",
       "<tr>\n",
       "  <th>Df Residuals:</th>          <td>   491</td>      <th>  BIC:               </th> <td>  -2614.</td>\n",
       "</tr>\n",
       "<tr>\n",
       "  <th>Df Model:</th>              <td>     1</td>      <th>                     </th>     <td> </td>   \n",
       "</tr>\n",
       "<tr>\n",
       "  <th>Covariance Type:</th>      <td>nonrobust</td>    <th>                     </th>     <td> </td>   \n",
       "</tr>\n",
       "</table>\n",
       "<table class=\"simpletable\">\n",
       "<tr>\n",
       "     <td></td>        <th>coef</th>     <th>std err</th>      <th>t</th>      <th>P>|t|</th>  <th>[0.025</th>    <th>0.975]</th>  \n",
       "</tr>\n",
       "<tr>\n",
       "  <th>const</th>   <td>   -0.0003</td> <td>    0.001</td> <td>   -0.331</td> <td> 0.741</td> <td>   -0.002</td> <td>    0.001</td>\n",
       "</tr>\n",
       "<tr>\n",
       "  <th>NIFTY50</th> <td>    1.3592</td> <td>    0.106</td> <td>   12.861</td> <td> 0.000</td> <td>    1.152</td> <td>    1.567</td>\n",
       "</tr>\n",
       "</table>\n",
       "<table class=\"simpletable\">\n",
       "<tr>\n",
       "  <th>Omnibus:</th>       <td>125.391</td> <th>  Durbin-Watson:     </th> <td>   2.391</td> \n",
       "</tr>\n",
       "<tr>\n",
       "  <th>Prob(Omnibus):</th> <td> 0.000</td>  <th>  Jarque-Bera (JB):  </th> <td>1075.176</td> \n",
       "</tr>\n",
       "<tr>\n",
       "  <th>Skew:</th>          <td>-0.839</td>  <th>  Prob(JB):          </th> <td>3.38e-234</td>\n",
       "</tr>\n",
       "<tr>\n",
       "  <th>Kurtosis:</th>      <td>10.037</td>  <th>  Cond. No.          </th> <td>    139.</td> \n",
       "</tr>\n",
       "</table><br/><br/>Warnings:<br/>[1] Standard Errors assume that the covariance matrix of the errors is correctly specified."
      ],
      "text/plain": [
       "<class 'statsmodels.iolib.summary.Summary'>\n",
       "\"\"\"\n",
       "                            OLS Regression Results                            \n",
       "==============================================================================\n",
       "Dep. Variable:             ADANIPORTS   R-squared:                       0.252\n",
       "Model:                            OLS   Adj. R-squared:                  0.250\n",
       "Method:                 Least Squares   F-statistic:                     165.4\n",
       "Date:                Sat, 30 May 2020   Prob (F-statistic):           7.89e-33\n",
       "Time:                        18:38:50   Log-Likelihood:                 1313.3\n",
       "No. Observations:                 493   AIC:                            -2623.\n",
       "Df Residuals:                     491   BIC:                            -2614.\n",
       "Df Model:                           1                                         \n",
       "Covariance Type:            nonrobust                                         \n",
       "==============================================================================\n",
       "                 coef    std err          t      P>|t|      [0.025      0.975]\n",
       "------------------------------------------------------------------------------\n",
       "const         -0.0003      0.001     -0.331      0.741      -0.002       0.001\n",
       "NIFTY50        1.3592      0.106     12.861      0.000       1.152       1.567\n",
       "==============================================================================\n",
       "Omnibus:                      125.391   Durbin-Watson:                   2.391\n",
       "Prob(Omnibus):                  0.000   Jarque-Bera (JB):             1075.176\n",
       "Skew:                          -0.839   Prob(JB):                    3.38e-234\n",
       "Kurtosis:                      10.037   Cond. No.                         139.\n",
       "==============================================================================\n",
       "\n",
       "Warnings:\n",
       "[1] Standard Errors assume that the covariance matrix of the errors is correctly specified.\n",
       "\"\"\""
      ]
     },
     "execution_count": 32,
     "metadata": {},
     "output_type": "execute_result"
    }
   ],
   "source": [
    "X  = returns['NIFTY50']\n",
    "Y  = returns['ADANIPORTS']\n",
    "X1 = sm.add_constant(X)\n",
    "\n",
    "model = OLS( Y, X1 )\n",
    "model.fit().summary()"
   ]
  },
  {
   "cell_type": "markdown",
   "metadata": {},
   "source": [
    "#### 3.2.2 Starting..."
   ]
  },
  {
   "cell_type": "code",
   "execution_count": 33,
   "metadata": {},
   "outputs": [],
   "source": [
    "NIFTY50['month']    = NIFTY50.index.map(   lambda date: f\"{date.year}-{date.month}\")\n",
    "ADANIPORTS['month'] = ADANIPORTS.index.map(lambda date: f\"{date.year}-{date.month}\")"
   ]
  },
  {
   "cell_type": "code",
   "execution_count": 34,
   "metadata": {},
   "outputs": [
    {
     "data": {
      "text/html": [
       "<div>\n",
       "<style scoped>\n",
       "    .dataframe tbody tr th:only-of-type {\n",
       "        vertical-align: middle;\n",
       "    }\n",
       "\n",
       "    .dataframe tbody tr th {\n",
       "        vertical-align: top;\n",
       "    }\n",
       "\n",
       "    .dataframe thead th {\n",
       "        text-align: right;\n",
       "    }\n",
       "</style>\n",
       "<table border=\"1\" class=\"dataframe\">\n",
       "  <thead>\n",
       "    <tr style=\"text-align: right;\">\n",
       "      <th></th>\n",
       "      <th>Symbol</th>\n",
       "      <th>Series</th>\n",
       "      <th>Prev Close</th>\n",
       "      <th>Open Price</th>\n",
       "      <th>High Price</th>\n",
       "      <th>Low Price</th>\n",
       "      <th>Last Price</th>\n",
       "      <th>Close Price</th>\n",
       "      <th>Average Price</th>\n",
       "      <th>Total Traded Quantity</th>\n",
       "      <th>Turnover</th>\n",
       "      <th>No. of Trades</th>\n",
       "      <th>Deliverable Qty</th>\n",
       "      <th>% Dly Qt to Traded Qty</th>\n",
       "    </tr>\n",
       "    <tr>\n",
       "      <th>month</th>\n",
       "      <th></th>\n",
       "      <th></th>\n",
       "      <th></th>\n",
       "      <th></th>\n",
       "      <th></th>\n",
       "      <th></th>\n",
       "      <th></th>\n",
       "      <th></th>\n",
       "      <th></th>\n",
       "      <th></th>\n",
       "      <th></th>\n",
       "      <th></th>\n",
       "      <th></th>\n",
       "      <th></th>\n",
       "    </tr>\n",
       "  </thead>\n",
       "  <tbody>\n",
       "    <tr>\n",
       "      <th>2017-10</th>\n",
       "      <td>ADANIPORTS</td>\n",
       "      <td>EQ</td>\n",
       "      <td>429.80</td>\n",
       "      <td>430.25</td>\n",
       "      <td>432.95</td>\n",
       "      <td>425.60</td>\n",
       "      <td>430.75</td>\n",
       "      <td>430.35</td>\n",
       "      <td>428.69</td>\n",
       "      <td>3418248</td>\n",
       "      <td>1.465379e+09</td>\n",
       "      <td>31803</td>\n",
       "      <td>2609911</td>\n",
       "      <td>76.35</td>\n",
       "    </tr>\n",
       "    <tr>\n",
       "      <th>2017-11</th>\n",
       "      <td>ADANIPORTS</td>\n",
       "      <td>EQ</td>\n",
       "      <td>403.45</td>\n",
       "      <td>401.35</td>\n",
       "      <td>401.35</td>\n",
       "      <td>396.00</td>\n",
       "      <td>400.00</td>\n",
       "      <td>398.00</td>\n",
       "      <td>399.22</td>\n",
       "      <td>5552149</td>\n",
       "      <td>2.216524e+09</td>\n",
       "      <td>50201</td>\n",
       "      <td>4047659</td>\n",
       "      <td>72.90</td>\n",
       "    </tr>\n",
       "    <tr>\n",
       "      <th>2017-12</th>\n",
       "      <td>ADANIPORTS</td>\n",
       "      <td>EQ</td>\n",
       "      <td>398.70</td>\n",
       "      <td>401.15</td>\n",
       "      <td>407.15</td>\n",
       "      <td>399.30</td>\n",
       "      <td>406.70</td>\n",
       "      <td>405.65</td>\n",
       "      <td>403.21</td>\n",
       "      <td>3574054</td>\n",
       "      <td>1.441100e+09</td>\n",
       "      <td>43173</td>\n",
       "      <td>2014822</td>\n",
       "      <td>56.37</td>\n",
       "    </tr>\n",
       "    <tr>\n",
       "      <th>2017-5</th>\n",
       "      <td>ADANIPORTS</td>\n",
       "      <td>EQ</td>\n",
       "      <td>340.35</td>\n",
       "      <td>341.50</td>\n",
       "      <td>345.75</td>\n",
       "      <td>336.55</td>\n",
       "      <td>341.75</td>\n",
       "      <td>339.00</td>\n",
       "      <td>339.69</td>\n",
       "      <td>12190256</td>\n",
       "      <td>4.140920e+09</td>\n",
       "      <td>94792</td>\n",
       "      <td>9389385</td>\n",
       "      <td>77.02</td>\n",
       "    </tr>\n",
       "    <tr>\n",
       "      <th>2017-6</th>\n",
       "      <td>ADANIPORTS</td>\n",
       "      <td>EQ</td>\n",
       "      <td>364.50</td>\n",
       "      <td>364.00</td>\n",
       "      <td>365.80</td>\n",
       "      <td>360.55</td>\n",
       "      <td>364.90</td>\n",
       "      <td>363.05</td>\n",
       "      <td>363.05</td>\n",
       "      <td>1386974</td>\n",
       "      <td>5.035435e+08</td>\n",
       "      <td>19945</td>\n",
       "      <td>358630</td>\n",
       "      <td>25.86</td>\n",
       "    </tr>\n",
       "  </tbody>\n",
       "</table>\n",
       "</div>"
      ],
      "text/plain": [
       "             Symbol Series  Prev Close  Open Price  High Price  Low Price  \\\n",
       "month                                                                       \n",
       "2017-10  ADANIPORTS     EQ      429.80      430.25      432.95     425.60   \n",
       "2017-11  ADANIPORTS     EQ      403.45      401.35      401.35     396.00   \n",
       "2017-12  ADANIPORTS     EQ      398.70      401.15      407.15     399.30   \n",
       "2017-5   ADANIPORTS     EQ      340.35      341.50      345.75     336.55   \n",
       "2017-6   ADANIPORTS     EQ      364.50      364.00      365.80     360.55   \n",
       "\n",
       "         Last Price  Close Price  Average Price  Total Traded Quantity  \\\n",
       "month                                                                    \n",
       "2017-10      430.75       430.35         428.69                3418248   \n",
       "2017-11      400.00       398.00         399.22                5552149   \n",
       "2017-12      406.70       405.65         403.21                3574054   \n",
       "2017-5       341.75       339.00         339.69               12190256   \n",
       "2017-6       364.90       363.05         363.05                1386974   \n",
       "\n",
       "             Turnover  No. of Trades  Deliverable Qty  % Dly Qt to Traded Qty  \n",
       "month                                                                          \n",
       "2017-10  1.465379e+09          31803          2609911                   76.35  \n",
       "2017-11  2.216524e+09          50201          4047659                   72.90  \n",
       "2017-12  1.441100e+09          43173          2014822                   56.37  \n",
       "2017-5   4.140920e+09          94792          9389385                   77.02  \n",
       "2017-6   5.035435e+08          19945           358630                   25.86  "
      ]
     },
     "execution_count": 34,
     "metadata": {},
     "output_type": "execute_result"
    }
   ],
   "source": [
    "NIFTY50_monthly    = NIFTY50.groupby('month').last()\n",
    "ADANIPORTS_monthly = ADANIPORTS.groupby('month').last()\n",
    "ADANIPORTS_monthly.head()"
   ]
  },
  {
   "cell_type": "code",
   "execution_count": 35,
   "metadata": {},
   "outputs": [
    {
     "data": {
      "text/html": [
       "<div>\n",
       "<style scoped>\n",
       "    .dataframe tbody tr th:only-of-type {\n",
       "        vertical-align: middle;\n",
       "    }\n",
       "\n",
       "    .dataframe tbody tr th {\n",
       "        vertical-align: top;\n",
       "    }\n",
       "\n",
       "    .dataframe thead th {\n",
       "        text-align: right;\n",
       "    }\n",
       "</style>\n",
       "<table border=\"1\" class=\"dataframe\">\n",
       "  <thead>\n",
       "    <tr style=\"text-align: right;\">\n",
       "      <th></th>\n",
       "      <th>ADANIPORTS</th>\n",
       "      <th>NIFTY50</th>\n",
       "    </tr>\n",
       "    <tr>\n",
       "      <th>month</th>\n",
       "      <th></th>\n",
       "      <th></th>\n",
       "    </tr>\n",
       "  </thead>\n",
       "  <tbody>\n",
       "    <tr>\n",
       "      <th>2017-11</th>\n",
       "      <td>-0.075171</td>\n",
       "      <td>-0.010522</td>\n",
       "    </tr>\n",
       "    <tr>\n",
       "      <th>2017-12</th>\n",
       "      <td>0.019221</td>\n",
       "      <td>0.029741</td>\n",
       "    </tr>\n",
       "    <tr>\n",
       "      <th>2017-5</th>\n",
       "      <td>-0.164304</td>\n",
       "      <td>-0.086362</td>\n",
       "    </tr>\n",
       "    <tr>\n",
       "      <th>2017-6</th>\n",
       "      <td>0.070944</td>\n",
       "      <td>-0.010430</td>\n",
       "    </tr>\n",
       "    <tr>\n",
       "      <th>2017-7</th>\n",
       "      <td>0.090483</td>\n",
       "      <td>0.058419</td>\n",
       "    </tr>\n",
       "  </tbody>\n",
       "</table>\n",
       "</div>"
      ],
      "text/plain": [
       "         ADANIPORTS   NIFTY50\n",
       "month                        \n",
       "2017-11   -0.075171 -0.010522\n",
       "2017-12    0.019221  0.029741\n",
       "2017-5    -0.164304 -0.086362\n",
       "2017-6     0.070944 -0.010430\n",
       "2017-7     0.090483  0.058419"
      ]
     },
     "execution_count": 35,
     "metadata": {},
     "output_type": "execute_result"
    }
   ],
   "source": [
    "returns_monthly = pd.concat([ ADANIPORTS_monthly['Close Price'], NIFTY50_monthly['Close'] ], axis=1).pct_change().dropna()\n",
    "returns_monthly.columns = ['ADANIPORTS', 'NIFTY50']\n",
    "returns_monthly.head()"
   ]
  },
  {
   "cell_type": "code",
   "execution_count": 36,
   "metadata": {},
   "outputs": [
    {
     "data": {
      "text/html": [
       "<table class=\"simpletable\">\n",
       "<caption>OLS Regression Results</caption>\n",
       "<tr>\n",
       "  <th>Dep. Variable:</th>       <td>ADANIPORTS</td>    <th>  R-squared:         </th> <td>   0.670</td>\n",
       "</tr>\n",
       "<tr>\n",
       "  <th>Model:</th>                   <td>OLS</td>       <th>  Adj. R-squared:    </th> <td>   0.655</td>\n",
       "</tr>\n",
       "<tr>\n",
       "  <th>Method:</th>             <td>Least Squares</td>  <th>  F-statistic:       </th> <td>   44.65</td>\n",
       "</tr>\n",
       "<tr>\n",
       "  <th>Date:</th>             <td>Sat, 30 May 2020</td> <th>  Prob (F-statistic):</th> <td>1.02e-06</td>\n",
       "</tr>\n",
       "<tr>\n",
       "  <th>Time:</th>                 <td>18:40:18</td>     <th>  Log-Likelihood:    </th> <td>  33.258</td>\n",
       "</tr>\n",
       "<tr>\n",
       "  <th>No. Observations:</th>      <td>    24</td>      <th>  AIC:               </th> <td>  -62.52</td>\n",
       "</tr>\n",
       "<tr>\n",
       "  <th>Df Residuals:</th>          <td>    22</td>      <th>  BIC:               </th> <td>  -60.16</td>\n",
       "</tr>\n",
       "<tr>\n",
       "  <th>Df Model:</th>              <td>     1</td>      <th>                     </th>     <td> </td>   \n",
       "</tr>\n",
       "<tr>\n",
       "  <th>Covariance Type:</th>      <td>nonrobust</td>    <th>                     </th>     <td> </td>   \n",
       "</tr>\n",
       "</table>\n",
       "<table class=\"simpletable\">\n",
       "<tr>\n",
       "     <td></td>        <th>coef</th>     <th>std err</th>      <th>t</th>      <th>P>|t|</th>  <th>[0.025</th>    <th>0.975]</th>  \n",
       "</tr>\n",
       "<tr>\n",
       "  <th>const</th>   <td>   -0.0087</td> <td>    0.013</td> <td>   -0.674</td> <td> 0.507</td> <td>   -0.036</td> <td>    0.018</td>\n",
       "</tr>\n",
       "<tr>\n",
       "  <th>NIFTY50</th> <td>    1.7670</td> <td>    0.264</td> <td>    6.682</td> <td> 0.000</td> <td>    1.219</td> <td>    2.315</td>\n",
       "</tr>\n",
       "</table>\n",
       "<table class=\"simpletable\">\n",
       "<tr>\n",
       "  <th>Omnibus:</th>       <td> 0.265</td> <th>  Durbin-Watson:     </th> <td>   1.782</td>\n",
       "</tr>\n",
       "<tr>\n",
       "  <th>Prob(Omnibus):</th> <td> 0.876</td> <th>  Jarque-Bera (JB):  </th> <td>   0.067</td>\n",
       "</tr>\n",
       "<tr>\n",
       "  <th>Skew:</th>          <td>-0.119</td> <th>  Prob(JB):          </th> <td>   0.967</td>\n",
       "</tr>\n",
       "<tr>\n",
       "  <th>Kurtosis:</th>      <td> 2.897</td> <th>  Cond. No.          </th> <td>    20.5</td>\n",
       "</tr>\n",
       "</table><br/><br/>Warnings:<br/>[1] Standard Errors assume that the covariance matrix of the errors is correctly specified."
      ],
      "text/plain": [
       "<class 'statsmodels.iolib.summary.Summary'>\n",
       "\"\"\"\n",
       "                            OLS Regression Results                            \n",
       "==============================================================================\n",
       "Dep. Variable:             ADANIPORTS   R-squared:                       0.670\n",
       "Model:                            OLS   Adj. R-squared:                  0.655\n",
       "Method:                 Least Squares   F-statistic:                     44.65\n",
       "Date:                Sat, 30 May 2020   Prob (F-statistic):           1.02e-06\n",
       "Time:                        18:40:18   Log-Likelihood:                 33.258\n",
       "No. Observations:                  24   AIC:                            -62.52\n",
       "Df Residuals:                      22   BIC:                            -60.16\n",
       "Df Model:                           1                                         \n",
       "Covariance Type:            nonrobust                                         \n",
       "==============================================================================\n",
       "                 coef    std err          t      P>|t|      [0.025      0.975]\n",
       "------------------------------------------------------------------------------\n",
       "const         -0.0087      0.013     -0.674      0.507      -0.036       0.018\n",
       "NIFTY50        1.7670      0.264      6.682      0.000       1.219       2.315\n",
       "==============================================================================\n",
       "Omnibus:                        0.265   Durbin-Watson:                   1.782\n",
       "Prob(Omnibus):                  0.876   Jarque-Bera (JB):                0.067\n",
       "Skew:                          -0.119   Prob(JB):                        0.967\n",
       "Kurtosis:                       2.897   Cond. No.                         20.5\n",
       "==============================================================================\n",
       "\n",
       "Warnings:\n",
       "[1] Standard Errors assume that the covariance matrix of the errors is correctly specified.\n",
       "\"\"\""
      ]
     },
     "execution_count": 36,
     "metadata": {},
     "output_type": "execute_result"
    }
   ],
   "source": [
    "X  = returns_monthly['NIFTY50']\n",
    "Y  = returns_monthly['ADANIPORTS']\n",
    "X1 = sm.add_constant(X)\n",
    "\n",
    "model = OLS( Y, X1 )\n",
    "model.fit().summary()"
   ]
  },
  {
   "cell_type": "code",
   "execution_count": null,
   "metadata": {},
   "outputs": [],
   "source": []
  }
 ],
 "metadata": {
  "kernelspec": {
   "display_name": "Python 3",
   "language": "python",
   "name": "python3"
  },
  "language_info": {
   "codemirror_mode": {
    "name": "ipython",
    "version": 3
   },
   "file_extension": ".py",
   "mimetype": "text/x-python",
   "name": "python",
   "nbconvert_exporter": "python",
   "pygments_lexer": "ipython3",
   "version": "3.7.3"
  }
 },
 "nbformat": 4,
 "nbformat_minor": 2
}
